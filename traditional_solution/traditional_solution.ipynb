{
  "nbformat": 4,
  "nbformat_minor": 0,
  "metadata": {
    "colab": {
      "provenance": []
    },
    "kernelspec": {
      "name": "python3",
      "display_name": "Python 3"
    },
    "language_info": {
      "name": "python"
    }
  },
  "cells": [
    {
      "cell_type": "code",
      "execution_count": 1,
      "metadata": {
        "colab": {
          "base_uri": "https://localhost:8080/"
        },
        "id": "t01fYenLCvsQ",
        "outputId": "a1ba4947-db13-45d2-a0bd-4dd50813e4bc"
      },
      "outputs": [
        {
          "output_type": "stream",
          "name": "stdout",
          "text": [
            "Mounted at /content/drive\n",
            "Dataset loaded in 107.03 seconds\n",
            "<class 'pandas.core.frame.DataFrame'>\n",
            "RangeIndex: 26173514 entries, 0 to 26173513\n",
            "Data columns (total 6 columns):\n",
            " #   Column   Dtype         \n",
            "---  ------   -----         \n",
            " 0   title    object        \n",
            " 1   rank     int64         \n",
            " 2   date     datetime64[ns]\n",
            " 3   artist   object        \n",
            " 4   region   object        \n",
            " 5   streams  float64       \n",
            "dtypes: datetime64[ns](1), float64(1), int64(1), object(3)\n",
            "memory usage: 1.2+ GB\n",
            "None\n",
            "                         title  rank       date  \\\n",
            "0      Chantaje (feat. Maluma)     1 2017-01-01   \n",
            "1  Vente Pa' Ca (feat. Maluma)     2 2017-01-01   \n",
            "2   Reggaetón Lento (Bailemos)     3 2017-01-01   \n",
            "3                       Safari     4 2017-01-01   \n",
            "4                  Shaky Shaky     5 2017-01-01   \n",
            "\n",
            "                                  artist     region   streams  \n",
            "0                                Shakira  Argentina  253019.0  \n",
            "1                           Ricky Martin  Argentina  223988.0  \n",
            "2                                   CNCO  Argentina  210943.0  \n",
            "3  J Balvin, Pharrell Williams, BIA, Sky  Argentina  173865.0  \n",
            "4                           Daddy Yankee  Argentina  153956.0  \n"
          ]
        }
      ],
      "source": [
        "import pandas as pd\n",
        "import time\n",
        "import psutil\n",
        "from google.colab import drive\n",
        "\n",
        "drive.mount('/content/drive', force_remount=True)\n",
        "\n",
        "# file path\n",
        "file_path = \"/content/drive/My Drive/spotify_dataset.csv\"\n",
        "\n",
        "### Load Dataset in Chunks (Handling 3GB File) ###\n",
        "def load_data(file_path, chunk_size=500000):\n",
        "    start_time = time.time()\n",
        "    chunk_list = []\n",
        "    for chunk in pd.read_csv(file_path, chunksize=chunk_size, usecols=[\"title\", \"artist\", \"streams\", \"rank\", \"region\", \"date\"], low_memory=False):\n",
        "        chunk[\"date\"] = pd.to_datetime(chunk[\"date\"], errors='coerce')\n",
        "        chunk[\"streams\"] = chunk[\"streams\"].fillna(chunk[\"streams\"].mean())\n",
        "        chunk_list.append(chunk)\n",
        "    df = pd.concat(chunk_list, ignore_index=True)\n",
        "    execution_time = time.time() - start_time\n",
        "    print(f\"Dataset loaded in {execution_time:.2f} seconds\")\n",
        "    return df\n",
        "\n",
        "df = load_data(file_path)\n",
        "print(df.info())\n",
        "print(df.head())"
      ]
    },
    {
      "cell_type": "code",
      "source": [
        "### Step 1: Find the Most Streamed Songs Globally ###\n",
        "def most_streamed_songs(df):\n",
        "    start_time = time.time()\n",
        "    result = df.groupby([\"title\", \"artist\"]).agg({\"streams\": \"sum\"}).reset_index()\n",
        "    result = result.sort_values(by=\"streams\", ascending=False).head(10)\n",
        "    execution_time = time.time() - start_time\n",
        "    print(f\"Most streamed songs calculated in {execution_time:.2f} seconds\")\n",
        "    return result\n",
        "\n",
        "most_streamed = most_streamed_songs(df)\n",
        "print(most_streamed)\n"
      ],
      "metadata": {
        "colab": {
          "base_uri": "https://localhost:8080/"
        },
        "id": "YvFP2VYDC0CV",
        "outputId": "2dff5a88-fbc5-473e-a33b-332142e48ee7"
      },
      "execution_count": 2,
      "outputs": [
        {
          "output_type": "stream",
          "name": "stdout",
          "text": [
            "Most streamed songs calculated in 9.62 seconds\n",
            "                                                title  \\\n",
            "20085                                 Blinding Lights   \n",
            "137981                                   Shape of You   \n",
            "34788                                    Dance Monkey   \n",
            "142863                              Someone You Loved   \n",
            "147292  Sunflower - Spider-Man: Into the Spider-Verse   \n",
            "137732                                       Señorita   \n",
            "177159                                        bad guy   \n",
            "40565                                 Don't Start Now   \n",
            "92814                                    Lucid Dreams   \n",
            "17471                                        Believer   \n",
            "\n",
            "                              artist       streams  \n",
            "20085                     The Weeknd  5.620908e+09  \n",
            "137981                    Ed Sheeran  5.443651e+09  \n",
            "34788                    Tones And I  5.263134e+09  \n",
            "142863                 Lewis Capaldi  4.320116e+09  \n",
            "147292         Post Malone, Swae Lee  3.962621e+09  \n",
            "137732  Shawn Mendes, Camila Cabello  3.864959e+09  \n",
            "177159                 Billie Eilish  3.761815e+09  \n",
            "40565                       Dua Lipa  3.495496e+09  \n",
            "92814                     Juice WRLD  3.440549e+09  \n",
            "17471                Imagine Dragons  3.207236e+09  \n"
          ]
        }
      ]
    },
    {
      "cell_type": "code",
      "source": [
        "### Step 2: Find the Top-Ranked Song for Each Region ###\n",
        "def top_ranked_songs(df):\n",
        "    start_time = time.time()\n",
        "    result = df.loc[df.groupby(\"region\")[\"rank\"].idxmin(), [\"region\", \"title\", \"artist\", \"rank\"]]\n",
        "    execution_time = time.time() - start_time\n",
        "    print(f\"Top ranked songs per region calculated in {execution_time:.2f} seconds\")\n",
        "    return result\n",
        "\n",
        "top_ranked = top_ranked_songs(df)\n",
        "print(top_ranked.head(10))\n"
      ],
      "metadata": {
        "colab": {
          "base_uri": "https://localhost:8080/"
        },
        "id": "MAQwwbSjGXKg",
        "outputId": "4077d8d3-80a6-4edb-c0a0-f0ed13f351fc"
      },
      "execution_count": 3,
      "outputs": [
        {
          "output_type": "stream",
          "name": "stdout",
          "text": [
            "Top ranked songs per region calculated in 4.30 seconds\n",
            "          region                       title  \\\n",
            "27430    Andorra                     Sirenas   \n",
            "0      Argentina     Chantaje (feat. Maluma)   \n",
            "201    Australia                     Starboy   \n",
            "402      Austria                       Alone   \n",
            "603      Belgium                    Hey Baby   \n",
            "803      Bolivia  Reggaetón Lento (Bailemos)   \n",
            "869       Brazil                    Deu Onda   \n",
            "1070    Bulgaria                     Starboy   \n",
            "1071      Canada                     Starboy   \n",
            "1273       Chile     Chantaje (feat. Maluma)   \n",
            "\n",
            "                                                 artist  rank  \n",
            "27430                                          Taburete     1  \n",
            "0                                               Shakira     1  \n",
            "201                               The Weeknd, Daft Punk     1  \n",
            "402                                         Alan Walker     1  \n",
            "603    Dimitri Vegas & Like Mike, Diplo, Deb’s Daughter     1  \n",
            "803                                                CNCO     1  \n",
            "869                                              MC G15     1  \n",
            "1070                              The Weeknd, Daft Punk     1  \n",
            "1071                              The Weeknd, Daft Punk     1  \n",
            "1273                                            Shakira     1  \n"
          ]
        }
      ]
    },
    {
      "cell_type": "code",
      "source": [
        "### Step 3: Track an Artist's Rank Over Time ###\n",
        "def artist_rank_over_time(df, artist_name=\"Ed Sheeran\"):\n",
        "    start_time = time.time()\n",
        "    result = df[df[\"artist\"] == artist_name][[\"date\", \"rank\", \"title\"]].sort_values(by=\"date\")\n",
        "    execution_time = time.time() - start_time\n",
        "    print(f\"{artist_name}'s ranking over time calculated in {execution_time:.2f} seconds\")\n",
        "    return result\n",
        "\n",
        "artist_rank = artist_rank_over_time(df)\n",
        "print(artist_rank.head(10))\n"
      ],
      "metadata": {
        "colab": {
          "base_uri": "https://localhost:8080/"
        },
        "id": "rozX0GEpKBqw",
        "outputId": "fce00f9f-5a3b-4aad-dd6b-5c8c89865e3a"
      },
      "execution_count": 4,
      "outputs": [
        {
          "output_type": "stream",
          "name": "stdout",
          "text": [
            "Ed Sheeran's ranking over time calculated in 2.24 seconds\n",
            "           date  rank                                              title\n",
            "309  2017-01-01   109                                  Thinking out Loud\n",
            "5318 2017-01-01   134                                  Thinking out Loud\n",
            "5464 2017-01-01    80                                  Thinking out Loud\n",
            "5504 2017-01-01   120                                         Photograph\n",
            "5572 2017-01-01   188  I See Fire - From \"The Hobbit - The Desolation...\n",
            "5744 2017-01-01   139                                         Photograph\n",
            "5755 2017-01-01   150                                  Thinking out Loud\n",
            "5775 2017-01-01   170  I See Fire - From \"The Hobbit - The Desolation...\n",
            "6142 2017-01-01   122                                  Thinking out Loud\n",
            "6180 2017-01-01   159                                         Photograph\n"
          ]
        }
      ]
    },
    {
      "cell_type": "code",
      "source": [
        "import numpy as np\n",
        "\n",
        "### Optimized Step 4: Identify Trending Songs (Streaming Growth Rate) ###\n",
        "def trending_songs(df):\n",
        "    start_time = time.time()\n",
        "\n",
        "    # Use vectorized shift instead of apply\n",
        "    df[\"previous_rank\"] = df.groupby([\"title\", \"region\"])[\"rank\"].shift(1)\n",
        "\n",
        "    # Avoid apply: Use NumPy for performance\n",
        "    df[\"trend\"] = np.where(df[\"rank\"] < df[\"previous_rank\"], \"TREND_UP\",\n",
        "                           np.where(df[\"rank\"] > df[\"previous_rank\"], \"TREND_DOWN\", \"SAME_POSITION\"))\n",
        "\n",
        "    execution_time = time.time() - start_time\n",
        "    print(f\"Trending songs calculated in {execution_time:.2f} seconds\")\n",
        "\n",
        "    return df[[\"title\", \"region\", \"rank\", \"previous_rank\", \"trend\"]].head(10)\n",
        "\n",
        "# Run the optimized function\n",
        "trending = trending_songs(df)\n",
        "print(trending)\n"
      ],
      "metadata": {
        "colab": {
          "base_uri": "https://localhost:8080/"
        },
        "id": "dcptFoeuKD0L",
        "outputId": "7ca68bfa-d395-4a62-d89f-b3df0093f49a"
      },
      "execution_count": 5,
      "outputs": [
        {
          "output_type": "stream",
          "name": "stdout",
          "text": [
            "Trending songs calculated in 16.02 seconds\n",
            "                         title     region  rank  previous_rank          trend\n",
            "0      Chantaje (feat. Maluma)  Argentina     1            NaN  SAME_POSITION\n",
            "1  Vente Pa' Ca (feat. Maluma)  Argentina     2            NaN  SAME_POSITION\n",
            "2   Reggaetón Lento (Bailemos)  Argentina     3            NaN  SAME_POSITION\n",
            "3                       Safari  Argentina     4            NaN  SAME_POSITION\n",
            "4                  Shaky Shaky  Argentina     5            NaN  SAME_POSITION\n",
            "5                  Traicionera  Argentina     6            NaN  SAME_POSITION\n",
            "6      Cuando Se Pone a Bailar  Argentina     7            NaN  SAME_POSITION\n",
            "7    Otra vez (feat. J Balvin)  Argentina     8            NaN  SAME_POSITION\n",
            "8                 La Bicicleta  Argentina     9            NaN  SAME_POSITION\n",
            "9       Dile Que Tu Me Quieres  Argentina    10            NaN  SAME_POSITION\n"
          ]
        }
      ]
    },
    {
      "cell_type": "code",
      "source": [],
      "metadata": {
        "id": "pARLP2SgKFVf"
      },
      "execution_count": 5,
      "outputs": []
    }
  ]
}