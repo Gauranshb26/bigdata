{
 "cells": [
  {
   "cell_type": "code",
   "execution_count": null,
   "metadata": {},
   "outputs": [],
   "source": [
    "import pandas as pd\n",
    "from collections import Counter\n",
    "\n",
    "# Step 1: Load the datasets\n",
    "df_charts = pd.read_csv(\"charts.csv\")\n",
    "df_musicinfo = pd.read_csv(\"MusicInfo.csv\")\n"
   ]
  },
  {
   "cell_type": "code",
   "execution_count": null,
   "metadata": {},
   "outputs": [],
   "source": [
    "# Step 2: Data Cleaning\n",
    "# Convert column names to lowercase for consistency\n",
    "df_charts.columns = df_charts.columns.str.lower()\n",
    "df_musicinfo.columns = df_musicinfo.columns.str.lower()\n",
    "\n",
    "# Remove unnecessary columns\n",
    "df_charts.drop(columns=[\"date\"], inplace=True, errors=\"ignore\")  # Remove 'date' from Charts\n",
    "df_musicinfo.drop(columns=[\"duration_ms\", \"danceability\", \"energy\", \"key\", \"loudness\", \n",
    "                           \"mode\", \"speechiness\", \"acousticness\", \"instrumental\", \"liveness\", \n",
    "                           \"valence\", \"tempo\", \"time_signature\", \"tags\", \"instrumentalness\", \n",
    "                           \"spotify_id\"], inplace=True, errors=\"ignore\")  # Remove multiple columns from MusicInfo"
   ]
  },
  {
   "cell_type": "code",
   "execution_count": null,
   "metadata": {},
   "outputs": [],
   "source": [
    "# Remove duplicates based on (title, artist) for Charts & (name, artist) for MusicInfo\n",
    "df_charts.drop_duplicates(subset=[\"title\", \"artist\"], keep=\"first\", inplace=True)\n",
    "df_musicinfo.drop_duplicates(subset=[\"name\", \"artist\"], keep=\"first\", inplace=True)\n",
    "\n",
    "# Convert 'streams' column to integer, setting invalid values to NaN\n",
    "df_charts[\"streams\"] = pd.to_numeric(df_charts[\"streams\"], errors=\"coerce\")\n"
   ]
  },
  {
   "cell_type": "code",
   "execution_count": null,
   "metadata": {},
   "outputs": [],
   "source": [
    "# Fix missing values: Drop rows where key identifiers are missing\n",
    "df_charts.dropna(subset=[\"title\", \"artist\", \"streams\"], inplace=True)\n",
    "df_musicinfo.dropna(subset=[\"name\", \"artist\"], inplace=True)\n",
    "\n",
    "# Fix genre: Keep only the first genre (avoiding complex junction table for now)\n",
    "df_musicinfo[\"genre\"] = df_musicinfo[\"genre\"].apply(lambda x: x.split(\",\")[0] if isinstance(x, str) else x)"
   ]
  },
  {
   "cell_type": "code",
   "execution_count": null,
   "metadata": {},
   "outputs": [],
   "source": [
    "# Step 3: Join datasets (Keep only common songs)\n",
    "df_merged = pd.merge(df_charts, df_musicinfo, left_on=[\"title\", \"artist\"], right_on=[\"name\", \"artist\"], how=\"inner\")"
   ]
  },
  {
   "cell_type": "code",
   "execution_count": null,
   "metadata": {},
   "outputs": [],
   "source": [
    "# Step 4: Data Transformation - Extract relevant columns\n",
    "df_analysis = df_merged[[\"title\", \"artist\", \"streams\", \"region\", \"genre\", \"year\", \"chart\"]]"
   ]
  },
  {
   "cell_type": "code",
   "execution_count": null,
   "metadata": {},
   "outputs": [],
   "source": [
    "\n",
    "\n",
    "df_charts.to_csv(\"charts_cleaned.csv\", index=False)\n",
    "df_musicinfo.to_csv(\"MusicInfo_cleaned.csv\", index=False)\n",
    "df_merged.to_csv(\"merged_data.csv\", index=False)\n",
    "\n",
    "print(\"\\n**Data Cleaning, Processing & Analysis Completed Successfully!**\")\n"
   ]
  }
 ],
 "metadata": {
  "language_info": {
   "name": "python"
  }
 },
 "nbformat": 4,
 "nbformat_minor": 2
}
